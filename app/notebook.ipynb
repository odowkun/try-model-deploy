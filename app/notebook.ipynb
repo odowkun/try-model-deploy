{
 "cells": [
  {
   "cell_type": "markdown",
   "metadata": {},
   "source": [
    "# **Technician Recommendation System**\n",
    "\n",
    "Import necessary modules"
   ]
  },
  {
   "cell_type": "code",
   "execution_count": 197,
   "metadata": {},
   "outputs": [],
   "source": [
    "import pandas as pd\n",
    "import numpy as np\n",
    "from sklearn.feature_extraction.text import TfidfVectorizer\n",
    "from sklearn.preprocessing import StandardScaler\n",
    "from sklearn.model_selection import train_test_split, KFold\n",
    "import tensorflow as tf\n",
    "from tensorflow.keras.models import Sequential\n",
    "from tensorflow.keras.layers import Dense, Dropout\n",
    "from tensorflow.keras.optimizers import Adam\n",
    "from tensorflow.keras.callbacks import EarlyStopping\n",
    "import keras_tuner as kt\n",
    "import pickle"
   ]
  },
  {
   "cell_type": "markdown",
   "metadata": {},
   "source": [
    "## **1. Data Exploration and Preprocessing**\n",
    "Read dataset, convert to dataframe using pandas and get the shape of the dataframe"
   ]
  },
  {
   "cell_type": "code",
   "execution_count": 182,
   "metadata": {},
   "outputs": [
    {
     "data": {
      "text/plain": [
       "(200, 10)"
      ]
     },
     "execution_count": 182,
     "metadata": {},
     "output_type": "execute_result"
    }
   ],
   "source": [
    "data_path = 'technicians.csv'\n",
    "data = pd.read_csv(data_path)\n",
    "original_data = data.copy()\n",
    "\n",
    "data.shape"
   ]
  },
  {
   "cell_type": "markdown",
   "metadata": {},
   "source": [
    "Display sample technician's dataframe"
   ]
  },
  {
   "cell_type": "code",
   "execution_count": 183,
   "metadata": {},
   "outputs": [
    {
     "data": {
      "text/html": [
       "<div>\n",
       "<style scoped>\n",
       "    .dataframe tbody tr th:only-of-type {\n",
       "        vertical-align: middle;\n",
       "    }\n",
       "\n",
       "    .dataframe tbody tr th {\n",
       "        vertical-align: top;\n",
       "    }\n",
       "\n",
       "    .dataframe thead th {\n",
       "        text-align: right;\n",
       "    }\n",
       "</style>\n",
       "<table border=\"1\" class=\"dataframe\">\n",
       "  <thead>\n",
       "    <tr style=\"text-align: right;\">\n",
       "      <th></th>\n",
       "      <th>technicianid</th>\n",
       "      <th>name</th>\n",
       "      <th>phonenumber</th>\n",
       "      <th>email</th>\n",
       "      <th>skills</th>\n",
       "      <th>experience</th>\n",
       "      <th>certifications</th>\n",
       "      <th>address</th>\n",
       "      <th>location</th>\n",
       "      <th>ratingsreceived</th>\n",
       "    </tr>\n",
       "  </thead>\n",
       "  <tbody>\n",
       "    <tr>\n",
       "      <th>0</th>\n",
       "      <td>1</td>\n",
       "      <td>Erik Okta Lestari</td>\n",
       "      <td>6287265995831</td>\n",
       "      <td>eriklestari@gmail.com</td>\n",
       "      <td>Computer Installation, AC Repair</td>\n",
       "      <td>13</td>\n",
       "      <td>NaN</td>\n",
       "      <td>Gg. Rawamangun No. 019</td>\n",
       "      <td>Bitung</td>\n",
       "      <td>4.2</td>\n",
       "    </tr>\n",
       "    <tr>\n",
       "      <th>1</th>\n",
       "      <td>2</td>\n",
       "      <td>Raisa Lasmono Najmudin</td>\n",
       "      <td>6287452722533</td>\n",
       "      <td>raisanajmudin@gmail.com</td>\n",
       "      <td>Washing Machine Maintenance, Electrical Repair</td>\n",
       "      <td>4</td>\n",
       "      <td>NaN</td>\n",
       "      <td>Gg. Rumah Sakit No. 74</td>\n",
       "      <td>Tegal</td>\n",
       "      <td>4.6</td>\n",
       "    </tr>\n",
       "    <tr>\n",
       "      <th>2</th>\n",
       "      <td>3</td>\n",
       "      <td>Tasnim Utama</td>\n",
       "      <td>62829038854284</td>\n",
       "      <td>tasnimutama@gmail.com</td>\n",
       "      <td>AC Maintenance, Plumbing Installation</td>\n",
       "      <td>4</td>\n",
       "      <td>Sertifikasi Profesi Teknik Pendingin dan Tata ...</td>\n",
       "      <td>Jl. Yos Sudarso No. 720</td>\n",
       "      <td>Jayapura</td>\n",
       "      <td>4.9</td>\n",
       "    </tr>\n",
       "    <tr>\n",
       "      <th>3</th>\n",
       "      <td>4</td>\n",
       "      <td>Warji Ghani Wahyudin</td>\n",
       "      <td>6289233671587</td>\n",
       "      <td>warjiwahyudin@gmail.com</td>\n",
       "      <td>Computer Repair, Plumbing Repair</td>\n",
       "      <td>2</td>\n",
       "      <td>NaN</td>\n",
       "      <td>Jl. Rajawali Timur No. 95</td>\n",
       "      <td>Pariaman</td>\n",
       "      <td>5.0</td>\n",
       "    </tr>\n",
       "    <tr>\n",
       "      <th>4</th>\n",
       "      <td>5</td>\n",
       "      <td>Tania Jailani</td>\n",
       "      <td>6282057406206</td>\n",
       "      <td>taniajailani@gmail.com</td>\n",
       "      <td>Plumbing Installation, Computer Repair</td>\n",
       "      <td>3</td>\n",
       "      <td>SKA Ahli Teknik Plambing dan Pompa Mekanika</td>\n",
       "      <td>Gg. Monginsidi No. 200</td>\n",
       "      <td>Bogor</td>\n",
       "      <td>4.0</td>\n",
       "    </tr>\n",
       "  </tbody>\n",
       "</table>\n",
       "</div>"
      ],
      "text/plain": [
       "   technicianid                    name     phonenumber  \\\n",
       "0             1       Erik Okta Lestari   6287265995831   \n",
       "1             2  Raisa Lasmono Najmudin   6287452722533   \n",
       "2             3            Tasnim Utama  62829038854284   \n",
       "3             4    Warji Ghani Wahyudin   6289233671587   \n",
       "4             5           Tania Jailani   6282057406206   \n",
       "\n",
       "                     email                                          skills  \\\n",
       "0    eriklestari@gmail.com                Computer Installation, AC Repair   \n",
       "1  raisanajmudin@gmail.com  Washing Machine Maintenance, Electrical Repair   \n",
       "2    tasnimutama@gmail.com           AC Maintenance, Plumbing Installation   \n",
       "3  warjiwahyudin@gmail.com                Computer Repair, Plumbing Repair   \n",
       "4   taniajailani@gmail.com          Plumbing Installation, Computer Repair   \n",
       "\n",
       "   experience                                     certifications  \\\n",
       "0          13                                                NaN   \n",
       "1           4                                                NaN   \n",
       "2           4  Sertifikasi Profesi Teknik Pendingin dan Tata ...   \n",
       "3           2                                                NaN   \n",
       "4           3        SKA Ahli Teknik Plambing dan Pompa Mekanika   \n",
       "\n",
       "                     address  location  ratingsreceived  \n",
       "0     Gg. Rawamangun No. 019    Bitung              4.2  \n",
       "1     Gg. Rumah Sakit No. 74     Tegal              4.6  \n",
       "2    Jl. Yos Sudarso No. 720  Jayapura              4.9  \n",
       "3  Jl. Rajawali Timur No. 95  Pariaman              5.0  \n",
       "4     Gg. Monginsidi No. 200     Bogor              4.0  "
      ]
     },
     "execution_count": 183,
     "metadata": {},
     "output_type": "execute_result"
    }
   ],
   "source": [
    "data.head()"
   ]
  },
  {
   "cell_type": "markdown",
   "metadata": {},
   "source": [
    "Check the information of the dataframe"
   ]
  },
  {
   "cell_type": "code",
   "execution_count": 184,
   "metadata": {},
   "outputs": [
    {
     "name": "stdout",
     "output_type": "stream",
     "text": [
      "<class 'pandas.core.frame.DataFrame'>\n",
      "RangeIndex: 200 entries, 0 to 199\n",
      "Data columns (total 10 columns):\n",
      " #   Column           Non-Null Count  Dtype  \n",
      "---  ------           --------------  -----  \n",
      " 0   technicianid     200 non-null    int64  \n",
      " 1   name             200 non-null    object \n",
      " 2   phonenumber      200 non-null    int64  \n",
      " 3   email            200 non-null    object \n",
      " 4   skills           200 non-null    object \n",
      " 5   experience       200 non-null    int64  \n",
      " 6   certifications   115 non-null    object \n",
      " 7   address          200 non-null    object \n",
      " 8   location         200 non-null    object \n",
      " 9   ratingsreceived  200 non-null    float64\n",
      "dtypes: float64(1), int64(3), object(6)\n",
      "memory usage: 15.8+ KB\n"
     ]
    }
   ],
   "source": [
    "data.info()"
   ]
  },
  {
   "cell_type": "markdown",
   "metadata": {},
   "source": [
    "Check statistical description of the dataframe"
   ]
  },
  {
   "cell_type": "code",
   "execution_count": 185,
   "metadata": {},
   "outputs": [
    {
     "data": {
      "text/html": [
       "<div>\n",
       "<style scoped>\n",
       "    .dataframe tbody tr th:only-of-type {\n",
       "        vertical-align: middle;\n",
       "    }\n",
       "\n",
       "    .dataframe tbody tr th {\n",
       "        vertical-align: top;\n",
       "    }\n",
       "\n",
       "    .dataframe thead th {\n",
       "        text-align: right;\n",
       "    }\n",
       "</style>\n",
       "<table border=\"1\" class=\"dataframe\">\n",
       "  <thead>\n",
       "    <tr style=\"text-align: right;\">\n",
       "      <th></th>\n",
       "      <th>technicianid</th>\n",
       "      <th>phonenumber</th>\n",
       "      <th>experience</th>\n",
       "      <th>ratingsreceived</th>\n",
       "    </tr>\n",
       "  </thead>\n",
       "  <tbody>\n",
       "    <tr>\n",
       "      <th>count</th>\n",
       "      <td>200.0</td>\n",
       "      <td>2.0e+02</td>\n",
       "      <td>200.0</td>\n",
       "      <td>200.0</td>\n",
       "    </tr>\n",
       "    <tr>\n",
       "      <th>mean</th>\n",
       "      <td>100.5</td>\n",
       "      <td>3.2e+13</td>\n",
       "      <td>4.7</td>\n",
       "      <td>4.3</td>\n",
       "    </tr>\n",
       "    <tr>\n",
       "      <th>std</th>\n",
       "      <td>57.9</td>\n",
       "      <td>2.8e+13</td>\n",
       "      <td>3.6</td>\n",
       "      <td>0.4</td>\n",
       "    </tr>\n",
       "    <tr>\n",
       "      <th>min</th>\n",
       "      <td>1.0</td>\n",
       "      <td>6.3e+12</td>\n",
       "      <td>1.0</td>\n",
       "      <td>3.5</td>\n",
       "    </tr>\n",
       "    <tr>\n",
       "      <th>25%</th>\n",
       "      <td>50.8</td>\n",
       "      <td>6.3e+12</td>\n",
       "      <td>2.0</td>\n",
       "      <td>4.0</td>\n",
       "    </tr>\n",
       "    <tr>\n",
       "      <th>50%</th>\n",
       "      <td>100.5</td>\n",
       "      <td>6.3e+12</td>\n",
       "      <td>4.0</td>\n",
       "      <td>4.3</td>\n",
       "    </tr>\n",
       "    <tr>\n",
       "      <th>75%</th>\n",
       "      <td>150.2</td>\n",
       "      <td>6.3e+13</td>\n",
       "      <td>5.0</td>\n",
       "      <td>4.7</td>\n",
       "    </tr>\n",
       "    <tr>\n",
       "      <th>max</th>\n",
       "      <td>200.0</td>\n",
       "      <td>6.3e+13</td>\n",
       "      <td>15.0</td>\n",
       "      <td>5.0</td>\n",
       "    </tr>\n",
       "  </tbody>\n",
       "</table>\n",
       "</div>"
      ],
      "text/plain": [
       "       technicianid  phonenumber  experience  ratingsreceived\n",
       "count         200.0      2.0e+02       200.0            200.0\n",
       "mean          100.5      3.2e+13         4.7              4.3\n",
       "std            57.9      2.8e+13         3.6              0.4\n",
       "min             1.0      6.3e+12         1.0              3.5\n",
       "25%            50.8      6.3e+12         2.0              4.0\n",
       "50%           100.5      6.3e+12         4.0              4.3\n",
       "75%           150.2      6.3e+13         5.0              4.7\n",
       "max           200.0      6.3e+13        15.0              5.0"
      ]
     },
     "execution_count": 185,
     "metadata": {},
     "output_type": "execute_result"
    }
   ],
   "source": [
    "data.describe()"
   ]
  },
  {
   "cell_type": "markdown",
   "metadata": {},
   "source": [
    "Choose only relevant columns"
   ]
  },
  {
   "cell_type": "code",
   "execution_count": 186,
   "metadata": {},
   "outputs": [],
   "source": [
    "data = data.drop(['email', 'phonenumber', 'location', 'address'], axis=1)"
   ]
  },
  {
   "cell_type": "markdown",
   "metadata": {},
   "source": [
    "Check null (missing) value in the dataframe"
   ]
  },
  {
   "cell_type": "code",
   "execution_count": 187,
   "metadata": {},
   "outputs": [
    {
     "data": {
      "text/plain": [
       "technicianid       0\n",
       "name               0\n",
       "skills             0\n",
       "experience         0\n",
       "certifications     0\n",
       "ratingsreceived    0\n",
       "dtype: int64"
      ]
     },
     "execution_count": 187,
     "metadata": {},
     "output_type": "execute_result"
    }
   ],
   "source": [
    "# Fill missing values for 'certifications' with '' as not all technicians might have certifications\n",
    "data['skills'] = data['skills'].fillna('')\n",
    "data['certifications'] = data['certifications'].fillna('')\n",
    "\n",
    "# Checking for missing values in both datasets\n",
    "data_missing = data.isnull().sum()\n",
    "\n",
    "data_missing "
   ]
  },
  {
   "cell_type": "code",
   "execution_count": null,
   "metadata": {},
   "outputs": [],
   "source": [
    "data['skills'] = data['skills'].str.lower()\n",
    "data['certifications'] = data['certifications'].str.lower()"
   ]
  },
  {
   "cell_type": "markdown",
   "metadata": {},
   "source": [
    "## **3. Model Development**\n",
    "Content-based recommendation"
   ]
  },
  {
   "cell_type": "code",
   "execution_count": 188,
   "metadata": {},
   "outputs": [],
   "source": [
    "# Initialize TF-IDF Vectorizer\n",
    "tfidf = TfidfVectorizer(max_features=5000)\n",
    "skills_tfidf = tfidf.fit_transform(data['skills']).toarray()"
   ]
  },
  {
   "cell_type": "code",
   "execution_count": 189,
   "metadata": {},
   "outputs": [],
   "source": [
    "# Fill missing values in numerical columns with 0\n",
    "data['experience'] = data['experience'].fillna(0)\n",
    "data['ratingsreceived'] = data['ratingsreceived'].fillna(0)"
   ]
  },
  {
   "cell_type": "code",
   "execution_count": 190,
   "metadata": {},
   "outputs": [],
   "source": [
    "# Normalize numerical features\n",
    "scaler = StandardScaler()\n",
    "data[['experience', 'ratingsreceived']] = scaler.fit_transform(data[['experience', 'ratingsreceived']])"
   ]
  },
  {
   "cell_type": "code",
   "execution_count": 191,
   "metadata": {},
   "outputs": [],
   "source": [
    "# One-hot encode certifications\n",
    "certifications_encoded = pd.get_dummies(data['certifications'])"
   ]
  },
  {
   "cell_type": "code",
   "execution_count": 192,
   "metadata": {},
   "outputs": [],
   "source": [
    "# Combine all features\n",
    "X_exp = data['experience'].values.reshape(-1, 1)\n",
    "X_rating = data['ratingsreceived'].values.reshape(-1, 1)\n",
    "X_cert = certifications_encoded.values"
   ]
  },
  {
   "cell_type": "code",
   "execution_count": 193,
   "metadata": {},
   "outputs": [],
   "source": [
    "# Combine features into a single array\n",
    "X = np.hstack([skills_tfidf, X_exp, X_cert, X_rating])\n",
    "\n",
    "# Create dummy target variable (since we don't have a target column, we'll use a placeholder)\n",
    "y = np.random.rand(X.shape[0])\n",
    "\n",
    "# Split the dataset into training and testing sets\n",
    "X_train, X_test, y_train, y_test = train_test_split(X, y, test_size=0.2, random_state=42)"
   ]
  },
  {
   "cell_type": "code",
   "execution_count": 194,
   "metadata": {},
   "outputs": [],
   "source": [
    "def build_model(hp):\n",
    "    model = Sequential()\n",
    "    model.add(Dense(hp.Int('units1', min_value=128, max_value=512, step=32), input_dim=X.shape[1], activation='relu'))\n",
    "    model.add(Dropout(hp.Float('dropout1', min_value=0.2, max_value=0.5, step=0.1)))\n",
    "    model.add(Dense(hp.Int('units2', min_value=64, max_value=256, step=32), activation='relu'))\n",
    "    model.add(Dropout(hp.Float('dropout2', min_value=0.2, max_value=0.5, step=0.1)))\n",
    "    model.add(Dense(hp.Int('units3', min_value=32, max_value=128, step=16), activation='relu'))\n",
    "    model.add(Dropout(hp.Float('dropout3', min_value=0.2, max_value=0.5, step=0.1)))\n",
    "    model.add(Dense(1, activation='linear'))\n",
    "    model.compile(optimizer=Adam(learning_rate=hp.Float('learning_rate', min_value=1e-4, max_value=1e-2, sampling='log')),\n",
    "                  loss='mean_squared_error',\n",
    "                  metrics=['mean_absolute_error'])\n",
    "    return model"
   ]
  },
  {
   "cell_type": "code",
   "execution_count": 195,
   "metadata": {},
   "outputs": [
    {
     "name": "stdout",
     "output_type": "stream",
     "text": [
      "Reloading Tuner from tuning_dir\\technician_recommendation\\tuner0.json\n"
     ]
    }
   ],
   "source": [
    "# Hyperparameter tuning\n",
    "tuner = kt.RandomSearch(\n",
    "    build_model,\n",
    "    objective='val_mean_absolute_error',\n",
    "    max_trials=10,\n",
    "    executions_per_trial=2,\n",
    "    directory='tuning_dir',\n",
    "    project_name='technician_recommendation'\n",
    ")"
   ]
  },
  {
   "cell_type": "code",
   "execution_count": 196,
   "metadata": {},
   "outputs": [
    {
     "name": "stdout",
     "output_type": "stream",
     "text": [
      "WARNING:tensorflow:From d:\\CapstoneProject\\.conda\\lib\\site-packages\\keras\\src\\backend\\common\\global_state.py:82: The name tf.reset_default_graph is deprecated. Please use tf.compat.v1.reset_default_graph instead.\n",
      "\n"
     ]
    },
    {
     "name": "stderr",
     "output_type": "stream",
     "text": [
      "WARNING:tensorflow:From d:\\CapstoneProject\\.conda\\lib\\site-packages\\keras\\src\\backend\\common\\global_state.py:82: The name tf.reset_default_graph is deprecated. Please use tf.compat.v1.reset_default_graph instead.\n",
      "\n",
      "d:\\CapstoneProject\\.conda\\lib\\site-packages\\keras\\src\\layers\\core\\dense.py:87: UserWarning: Do not pass an `input_shape`/`input_dim` argument to a layer. When using Sequential models, prefer using an `Input(shape)` object as the first layer in the model instead.\n",
      "  super().__init__(activity_regularizer=activity_regularizer, **kwargs)\n",
      "d:\\CapstoneProject\\.conda\\lib\\site-packages\\keras\\src\\saving\\saving_lib.py:415: UserWarning: Skipping variable loading for optimizer 'adam', because it has 2 variables whereas the saved optimizer has 18 variables. \n",
      "  saveable.load_own_variables(weights_store.get(inner_path))\n"
     ]
    },
    {
     "data": {
      "text/html": [
       "<pre style=\"white-space:pre;overflow-x:auto;line-height:normal;font-family:Menlo,'DejaVu Sans Mono',consolas,'Courier New',monospace\"><span style=\"font-weight: bold\">Model: \"sequential\"</span>\n",
       "</pre>\n"
      ],
      "text/plain": [
       "\u001b[1mModel: \"sequential\"\u001b[0m\n"
      ]
     },
     "metadata": {},
     "output_type": "display_data"
    },
    {
     "data": {
      "text/html": [
       "<pre style=\"white-space:pre;overflow-x:auto;line-height:normal;font-family:Menlo,'DejaVu Sans Mono',consolas,'Courier New',monospace\">┏━━━━━━━━━━━━━━━━━━━━━━━━━━━━━━━━━┳━━━━━━━━━━━━━━━━━━━━━━━━┳━━━━━━━━━━━━━━━┓\n",
       "┃<span style=\"font-weight: bold\"> Layer (type)                    </span>┃<span style=\"font-weight: bold\"> Output Shape           </span>┃<span style=\"font-weight: bold\">       Param # </span>┃\n",
       "┡━━━━━━━━━━━━━━━━━━━━━━━━━━━━━━━━━╇━━━━━━━━━━━━━━━━━━━━━━━━╇━━━━━━━━━━━━━━━┩\n",
       "│ dense (<span style=\"color: #0087ff; text-decoration-color: #0087ff\">Dense</span>)                   │ (<span style=\"color: #00d7ff; text-decoration-color: #00d7ff\">None</span>, <span style=\"color: #00af00; text-decoration-color: #00af00\">128</span>)            │         <span style=\"color: #00af00; text-decoration-color: #00af00\">5,632</span> │\n",
       "├─────────────────────────────────┼────────────────────────┼───────────────┤\n",
       "│ dropout (<span style=\"color: #0087ff; text-decoration-color: #0087ff\">Dropout</span>)               │ (<span style=\"color: #00d7ff; text-decoration-color: #00d7ff\">None</span>, <span style=\"color: #00af00; text-decoration-color: #00af00\">128</span>)            │             <span style=\"color: #00af00; text-decoration-color: #00af00\">0</span> │\n",
       "├─────────────────────────────────┼────────────────────────┼───────────────┤\n",
       "│ dense_1 (<span style=\"color: #0087ff; text-decoration-color: #0087ff\">Dense</span>)                 │ (<span style=\"color: #00d7ff; text-decoration-color: #00d7ff\">None</span>, <span style=\"color: #00af00; text-decoration-color: #00af00\">128</span>)            │        <span style=\"color: #00af00; text-decoration-color: #00af00\">16,512</span> │\n",
       "├─────────────────────────────────┼────────────────────────┼───────────────┤\n",
       "│ dropout_1 (<span style=\"color: #0087ff; text-decoration-color: #0087ff\">Dropout</span>)             │ (<span style=\"color: #00d7ff; text-decoration-color: #00d7ff\">None</span>, <span style=\"color: #00af00; text-decoration-color: #00af00\">128</span>)            │             <span style=\"color: #00af00; text-decoration-color: #00af00\">0</span> │\n",
       "├─────────────────────────────────┼────────────────────────┼───────────────┤\n",
       "│ dense_2 (<span style=\"color: #0087ff; text-decoration-color: #0087ff\">Dense</span>)                 │ (<span style=\"color: #00d7ff; text-decoration-color: #00d7ff\">None</span>, <span style=\"color: #00af00; text-decoration-color: #00af00\">80</span>)             │        <span style=\"color: #00af00; text-decoration-color: #00af00\">10,320</span> │\n",
       "├─────────────────────────────────┼────────────────────────┼───────────────┤\n",
       "│ dropout_2 (<span style=\"color: #0087ff; text-decoration-color: #0087ff\">Dropout</span>)             │ (<span style=\"color: #00d7ff; text-decoration-color: #00d7ff\">None</span>, <span style=\"color: #00af00; text-decoration-color: #00af00\">80</span>)             │             <span style=\"color: #00af00; text-decoration-color: #00af00\">0</span> │\n",
       "├─────────────────────────────────┼────────────────────────┼───────────────┤\n",
       "│ dense_3 (<span style=\"color: #0087ff; text-decoration-color: #0087ff\">Dense</span>)                 │ (<span style=\"color: #00d7ff; text-decoration-color: #00d7ff\">None</span>, <span style=\"color: #00af00; text-decoration-color: #00af00\">1</span>)              │            <span style=\"color: #00af00; text-decoration-color: #00af00\">81</span> │\n",
       "└─────────────────────────────────┴────────────────────────┴───────────────┘\n",
       "</pre>\n"
      ],
      "text/plain": [
       "┏━━━━━━━━━━━━━━━━━━━━━━━━━━━━━━━━━┳━━━━━━━━━━━━━━━━━━━━━━━━┳━━━━━━━━━━━━━━━┓\n",
       "┃\u001b[1m \u001b[0m\u001b[1mLayer (type)                   \u001b[0m\u001b[1m \u001b[0m┃\u001b[1m \u001b[0m\u001b[1mOutput Shape          \u001b[0m\u001b[1m \u001b[0m┃\u001b[1m \u001b[0m\u001b[1m      Param #\u001b[0m\u001b[1m \u001b[0m┃\n",
       "┡━━━━━━━━━━━━━━━━━━━━━━━━━━━━━━━━━╇━━━━━━━━━━━━━━━━━━━━━━━━╇━━━━━━━━━━━━━━━┩\n",
       "│ dense (\u001b[38;5;33mDense\u001b[0m)                   │ (\u001b[38;5;45mNone\u001b[0m, \u001b[38;5;34m128\u001b[0m)            │         \u001b[38;5;34m5,632\u001b[0m │\n",
       "├─────────────────────────────────┼────────────────────────┼───────────────┤\n",
       "│ dropout (\u001b[38;5;33mDropout\u001b[0m)               │ (\u001b[38;5;45mNone\u001b[0m, \u001b[38;5;34m128\u001b[0m)            │             \u001b[38;5;34m0\u001b[0m │\n",
       "├─────────────────────────────────┼────────────────────────┼───────────────┤\n",
       "│ dense_1 (\u001b[38;5;33mDense\u001b[0m)                 │ (\u001b[38;5;45mNone\u001b[0m, \u001b[38;5;34m128\u001b[0m)            │        \u001b[38;5;34m16,512\u001b[0m │\n",
       "├─────────────────────────────────┼────────────────────────┼───────────────┤\n",
       "│ dropout_1 (\u001b[38;5;33mDropout\u001b[0m)             │ (\u001b[38;5;45mNone\u001b[0m, \u001b[38;5;34m128\u001b[0m)            │             \u001b[38;5;34m0\u001b[0m │\n",
       "├─────────────────────────────────┼────────────────────────┼───────────────┤\n",
       "│ dense_2 (\u001b[38;5;33mDense\u001b[0m)                 │ (\u001b[38;5;45mNone\u001b[0m, \u001b[38;5;34m80\u001b[0m)             │        \u001b[38;5;34m10,320\u001b[0m │\n",
       "├─────────────────────────────────┼────────────────────────┼───────────────┤\n",
       "│ dropout_2 (\u001b[38;5;33mDropout\u001b[0m)             │ (\u001b[38;5;45mNone\u001b[0m, \u001b[38;5;34m80\u001b[0m)             │             \u001b[38;5;34m0\u001b[0m │\n",
       "├─────────────────────────────────┼────────────────────────┼───────────────┤\n",
       "│ dense_3 (\u001b[38;5;33mDense\u001b[0m)                 │ (\u001b[38;5;45mNone\u001b[0m, \u001b[38;5;34m1\u001b[0m)              │            \u001b[38;5;34m81\u001b[0m │\n",
       "└─────────────────────────────────┴────────────────────────┴───────────────┘\n"
      ]
     },
     "metadata": {},
     "output_type": "display_data"
    },
    {
     "data": {
      "text/html": [
       "<pre style=\"white-space:pre;overflow-x:auto;line-height:normal;font-family:Menlo,'DejaVu Sans Mono',consolas,'Courier New',monospace\"><span style=\"font-weight: bold\"> Total params: </span><span style=\"color: #00af00; text-decoration-color: #00af00\">32,545</span> (127.13 KB)\n",
       "</pre>\n"
      ],
      "text/plain": [
       "\u001b[1m Total params: \u001b[0m\u001b[38;5;34m32,545\u001b[0m (127.13 KB)\n"
      ]
     },
     "metadata": {},
     "output_type": "display_data"
    },
    {
     "data": {
      "text/html": [
       "<pre style=\"white-space:pre;overflow-x:auto;line-height:normal;font-family:Menlo,'DejaVu Sans Mono',consolas,'Courier New',monospace\"><span style=\"font-weight: bold\"> Trainable params: </span><span style=\"color: #00af00; text-decoration-color: #00af00\">32,545</span> (127.13 KB)\n",
       "</pre>\n"
      ],
      "text/plain": [
       "\u001b[1m Trainable params: \u001b[0m\u001b[38;5;34m32,545\u001b[0m (127.13 KB)\n"
      ]
     },
     "metadata": {},
     "output_type": "display_data"
    },
    {
     "data": {
      "text/html": [
       "<pre style=\"white-space:pre;overflow-x:auto;line-height:normal;font-family:Menlo,'DejaVu Sans Mono',consolas,'Courier New',monospace\"><span style=\"font-weight: bold\"> Non-trainable params: </span><span style=\"color: #00af00; text-decoration-color: #00af00\">0</span> (0.00 B)\n",
       "</pre>\n"
      ],
      "text/plain": [
       "\u001b[1m Non-trainable params: \u001b[0m\u001b[38;5;34m0\u001b[0m (0.00 B)\n"
      ]
     },
     "metadata": {},
     "output_type": "display_data"
    },
    {
     "name": "stderr",
     "output_type": "stream",
     "text": [
      "WARNING:absl:You are saving your model as an HDF5 file via `model.save()` or `keras.saving.save_model(model)`. This file format is considered legacy. We recommend using instead the native Keras format, e.g. `model.save('my_model.keras')` or `keras.saving.save_model(model, 'my_model.keras')`. \n"
     ]
    }
   ],
   "source": [
    "# Set up early stopping\n",
    "early_stopping = EarlyStopping(monitor='val_loss', patience=10, restore_best_weights=True)\n",
    "\n",
    "# Train the tuner\n",
    "tuner.search(X_train, y_train, epochs=50, validation_data=(X_test, y_test), callbacks=[early_stopping])\n",
    "\n",
    "# Get the best model\n",
    "best_model = tuner.get_best_models(num_models=1)[0]\n",
    "\n",
    "# Summary of the best model\n",
    "best_model.summary()\n",
    "\n",
    "# Save the best model\n",
    "best_model.save('technician_recommendation_model_advanced.h5')"
   ]
  },
  {
   "cell_type": "code",
   "execution_count": 198,
   "metadata": {},
   "outputs": [],
   "source": [
    "# Save the TF-IDF vectorizer and scaler\n",
    "with open('tfidf_vectorizer.pkl', 'wb') as f:\n",
    "    pickle.dump(tfidf, f)\n",
    "with open('scaler.pkl', 'wb') as f:\n",
    "    pickle.dump(scaler, f)\n",
    "with open('certifications_encoded_columns.pkl', 'wb') as f:\n",
    "    pickle.dump(certifications_encoded.columns, f)"
   ]
  },
  {
   "cell_type": "code",
   "execution_count": 200,
   "metadata": {},
   "outputs": [
    {
     "name": "stderr",
     "output_type": "stream",
     "text": [
      "WARNING:absl:Compiled the loaded model, but the compiled metrics have yet to be built. `model.compile_metrics` will be empty until you train or evaluate the model.\n"
     ]
    }
   ],
   "source": [
    "# Load the saved model and preprocessing artifacts\n",
    "model = tf.keras.models.load_model('technician_recommendation_model_advanced.h5')\n",
    "with open('tfidf_vectorizer.pkl', 'rb') as f:\n",
    "    tfidf = pickle.load(f)\n",
    "with open('scaler.pkl', 'rb') as f:\n",
    "    scaler = pickle.load(f)\n",
    "with open('certifications_encoded_columns.pkl', 'rb') as f:\n",
    "    certifications_encoded_columns = pickle.load(f)\n",
    "\n",
    "# Load the original data\n",
    "data = pd.read_csv('technicians.csv')\n",
    "original_data = data.copy()"
   ]
  },
  {
   "cell_type": "code",
   "execution_count": 201,
   "metadata": {},
   "outputs": [],
   "source": [
    "# Preprocess the data\n",
    "data['skills'] = data['skills'].fillna('')\n",
    "data['certifications'] = data['certifications'].fillna('')\n",
    "skills_tfidf = tfidf.transform(data['skills']).toarray()\n",
    "data['experience'] = data['experience'].fillna(0)\n",
    "data['ratingsreceived'] = data['ratingsreceived'].fillna(0)\n",
    "data[['experience', 'ratingsreceived']] = scaler.transform(data[['experience', 'ratingsreceived']])\n",
    "certifications_encoded = pd.get_dummies(data['certifications']).reindex(columns=certifications_encoded_columns, fill_value=0)\n",
    "X_exp = data['experience'].values.reshape(-1, 1)\n",
    "X_rating = data['ratingsreceived'].values.reshape(-1, 1)\n",
    "X_cert = certifications_encoded.values\n",
    "X = np.hstack([skills_tfidf, X_exp, X_cert, X_rating])"
   ]
  },
  {
   "cell_type": "code",
   "execution_count": 202,
   "metadata": {},
   "outputs": [],
   "source": [
    "def predict_best_technician(user_skill):\n",
    "    # Preprocess the user input skill\n",
    "    user_skill_tfidf = tfidf.transform([user_skill]).toarray()\n",
    "    \n",
    "    # Prepare the input data\n",
    "    X_input = np.hstack([user_skill_tfidf, np.zeros((1, X.shape[1] - user_skill_tfidf.shape[1]))])\n",
    "    \n",
    "    # Predict scores for the user input skill\n",
    "    predicted_score = model.predict(X_input).flatten()[0]\n",
    "    \n",
    "    # Combine with experience, certifications, and ratings\n",
    "    best_match_score = -1\n",
    "    best_technician_index = -1\n",
    "    \n",
    "    for idx in range(X.shape[0]):\n",
    "        technician = data.iloc[idx]\n",
    "        skill_match = user_skill.lower() in technician['skills'].lower()  # Ensure exact phrase matching\n",
    "        if skill_match:\n",
    "            combined_score = (predicted_score + \n",
    "                              technician['experience'] + \n",
    "                              technician['ratingsreceived'] + \n",
    "                              certifications_encoded.iloc[idx].sum())\n",
    "            if combined_score > best_match_score:\n",
    "                best_match_score = combined_score\n",
    "                best_technician_index = idx\n",
    "    \n",
    "    if best_technician_index != -1:\n",
    "        return original_data.iloc[best_technician_index]\n",
    "    else:\n",
    "        return \"No matching technician found.\""
   ]
  },
  {
   "cell_type": "code",
   "execution_count": 204,
   "metadata": {},
   "outputs": [
    {
     "name": "stdout",
     "output_type": "stream",
     "text": [
      "\u001b[1m1/1\u001b[0m \u001b[32m━━━━━━━━━━━━━━━━━━━━\u001b[0m\u001b[37m\u001b[0m \u001b[1m0s\u001b[0m 137ms/step\n",
      "technicianid                                  122\n",
      "name                             Luhung Puspasari\n",
      "phonenumber                        62896859133987\n",
      "email                   luhungpuspasari@gmail.com\n",
      "skills             Refrigerator Repair, AC Repair\n",
      "experience                                     11\n",
      "certifications                                NaN\n",
      "address                     Jalan Ciwastra No. 72\n",
      "location                              Probolinggo\n",
      "ratingsreceived                               4.7\n",
      "Name: 121, dtype: object\n"
     ]
    }
   ],
   "source": [
    "# Example usage\n",
    "user_input_skills = \"ac repair\"\n",
    "recommended_technician = predict_best_technician(user_input_skills)\n",
    "print(recommended_technician)"
   ]
  }
 ],
 "metadata": {
  "kernelspec": {
   "display_name": ".venv",
   "language": "python",
   "name": "python3"
  },
  "language_info": {
   "codemirror_mode": {
    "name": "ipython",
    "version": 3
   },
   "file_extension": ".py",
   "mimetype": "text/x-python",
   "name": "python",
   "nbconvert_exporter": "python",
   "pygments_lexer": "ipython3",
   "version": "3.9.19"
  }
 },
 "nbformat": 4,
 "nbformat_minor": 2
}
